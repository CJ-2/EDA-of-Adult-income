{
 "cells": [
  {
   "metadata": {
    "trusted": true
   },
   "cell_type": "code",
   "source": "import pandas as pd\nimport numpy as np",
   "execution_count": 1,
   "outputs": []
  },
  {
   "metadata": {
    "trusted": true
   },
   "cell_type": "code",
   "source": "df = pd.read_csv('adult.csv')#Reading the CSV file",
   "execution_count": 2,
   "outputs": []
  },
  {
   "metadata": {
    "trusted": true
   },
   "cell_type": "code",
   "source": "df.head()#Display the first five rows",
   "execution_count": 3,
   "outputs": [
    {
     "output_type": "execute_result",
     "execution_count": 3,
     "data": {
      "text/plain": "   age  workclass  fnlwgt     education  educational-num      marital-status  \\\n0   25    Private  226802          11th                7       Never-married   \n1   38    Private   89814       HS-grad                9  Married-civ-spouse   \n2   28  Local-gov  336951    Assoc-acdm               12  Married-civ-spouse   \n3   44    Private  160323  Some-college               10  Married-civ-spouse   \n4   18          ?  103497  Some-college               10       Never-married   \n\n          occupation relationship   race  gender  capital-gain  capital-loss  \\\n0  Machine-op-inspct    Own-child  Black    Male             0             0   \n1    Farming-fishing      Husband  White    Male             0             0   \n2    Protective-serv      Husband  White    Male             0             0   \n3  Machine-op-inspct      Husband  Black    Male          7688             0   \n4                  ?    Own-child  White  Female             0             0   \n\n   hours-per-week native-country income  \n0              40  United-States  <=50K  \n1              50  United-States  <=50K  \n2              40  United-States   >50K  \n3              40  United-States   >50K  \n4              30  United-States  <=50K  ",
      "text/html": "<div>\n<style scoped>\n    .dataframe tbody tr th:only-of-type {\n        vertical-align: middle;\n    }\n\n    .dataframe tbody tr th {\n        vertical-align: top;\n    }\n\n    .dataframe thead th {\n        text-align: right;\n    }\n</style>\n<table border=\"1\" class=\"dataframe\">\n  <thead>\n    <tr style=\"text-align: right;\">\n      <th></th>\n      <th>age</th>\n      <th>workclass</th>\n      <th>fnlwgt</th>\n      <th>education</th>\n      <th>educational-num</th>\n      <th>marital-status</th>\n      <th>occupation</th>\n      <th>relationship</th>\n      <th>race</th>\n      <th>gender</th>\n      <th>capital-gain</th>\n      <th>capital-loss</th>\n      <th>hours-per-week</th>\n      <th>native-country</th>\n      <th>income</th>\n    </tr>\n  </thead>\n  <tbody>\n    <tr>\n      <th>0</th>\n      <td>25</td>\n      <td>Private</td>\n      <td>226802</td>\n      <td>11th</td>\n      <td>7</td>\n      <td>Never-married</td>\n      <td>Machine-op-inspct</td>\n      <td>Own-child</td>\n      <td>Black</td>\n      <td>Male</td>\n      <td>0</td>\n      <td>0</td>\n      <td>40</td>\n      <td>United-States</td>\n      <td>&lt;=50K</td>\n    </tr>\n    <tr>\n      <th>1</th>\n      <td>38</td>\n      <td>Private</td>\n      <td>89814</td>\n      <td>HS-grad</td>\n      <td>9</td>\n      <td>Married-civ-spouse</td>\n      <td>Farming-fishing</td>\n      <td>Husband</td>\n      <td>White</td>\n      <td>Male</td>\n      <td>0</td>\n      <td>0</td>\n      <td>50</td>\n      <td>United-States</td>\n      <td>&lt;=50K</td>\n    </tr>\n    <tr>\n      <th>2</th>\n      <td>28</td>\n      <td>Local-gov</td>\n      <td>336951</td>\n      <td>Assoc-acdm</td>\n      <td>12</td>\n      <td>Married-civ-spouse</td>\n      <td>Protective-serv</td>\n      <td>Husband</td>\n      <td>White</td>\n      <td>Male</td>\n      <td>0</td>\n      <td>0</td>\n      <td>40</td>\n      <td>United-States</td>\n      <td>&gt;50K</td>\n    </tr>\n    <tr>\n      <th>3</th>\n      <td>44</td>\n      <td>Private</td>\n      <td>160323</td>\n      <td>Some-college</td>\n      <td>10</td>\n      <td>Married-civ-spouse</td>\n      <td>Machine-op-inspct</td>\n      <td>Husband</td>\n      <td>Black</td>\n      <td>Male</td>\n      <td>7688</td>\n      <td>0</td>\n      <td>40</td>\n      <td>United-States</td>\n      <td>&gt;50K</td>\n    </tr>\n    <tr>\n      <th>4</th>\n      <td>18</td>\n      <td>?</td>\n      <td>103497</td>\n      <td>Some-college</td>\n      <td>10</td>\n      <td>Never-married</td>\n      <td>?</td>\n      <td>Own-child</td>\n      <td>White</td>\n      <td>Female</td>\n      <td>0</td>\n      <td>0</td>\n      <td>30</td>\n      <td>United-States</td>\n      <td>&lt;=50K</td>\n    </tr>\n  </tbody>\n</table>\n</div>"
     },
     "metadata": {}
    }
   ]
  },
  {
   "metadata": {
    "trusted": true
   },
   "cell_type": "code",
   "source": "print('the shape:',df.shape)",
   "execution_count": 4,
   "outputs": [
    {
     "output_type": "stream",
     "text": "the shape: (48842, 15)\n",
     "name": "stdout"
    }
   ]
  },
  {
   "metadata": {
    "trusted": true
   },
   "cell_type": "code",
   "source": "#some general information about the data frame\ndf.info()",
   "execution_count": 5,
   "outputs": [
    {
     "output_type": "stream",
     "text": "<class 'pandas.core.frame.DataFrame'>\nRangeIndex: 48842 entries, 0 to 48841\nData columns (total 15 columns):\n #   Column           Non-Null Count  Dtype \n---  ------           --------------  ----- \n 0   age              48842 non-null  int64 \n 1   workclass        48842 non-null  object\n 2   fnlwgt           48842 non-null  int64 \n 3   education        48842 non-null  object\n 4   educational-num  48842 non-null  int64 \n 5   marital-status   48842 non-null  object\n 6   occupation       48842 non-null  object\n 7   relationship     48842 non-null  object\n 8   race             48842 non-null  object\n 9   gender           48842 non-null  object\n 10  capital-gain     48842 non-null  int64 \n 11  capital-loss     48842 non-null  int64 \n 12  hours-per-week   48842 non-null  int64 \n 13  native-country   48842 non-null  object\n 14  income           48842 non-null  object\ndtypes: int64(6), object(9)\nmemory usage: 5.6+ MB\n",
     "name": "stdout"
    }
   ]
  },
  {
   "metadata": {
    "trusted": true
   },
   "cell_type": "code",
   "source": "#basic statistical characteristics of each numerical feature\ndf.describe()",
   "execution_count": 6,
   "outputs": [
    {
     "output_type": "execute_result",
     "execution_count": 6,
     "data": {
      "text/plain": "                age        fnlwgt  educational-num  capital-gain  \\\ncount  48842.000000  4.884200e+04     48842.000000  48842.000000   \nmean      38.643585  1.896641e+05        10.078089   1079.067626   \nstd       13.710510  1.056040e+05         2.570973   7452.019058   \nmin       17.000000  1.228500e+04         1.000000      0.000000   \n25%       28.000000  1.175505e+05         9.000000      0.000000   \n50%       37.000000  1.781445e+05        10.000000      0.000000   \n75%       48.000000  2.376420e+05        12.000000      0.000000   \nmax       90.000000  1.490400e+06        16.000000  99999.000000   \n\n       capital-loss  hours-per-week  \ncount  48842.000000    48842.000000  \nmean      87.502314       40.422382  \nstd      403.004552       12.391444  \nmin        0.000000        1.000000  \n25%        0.000000       40.000000  \n50%        0.000000       40.000000  \n75%        0.000000       45.000000  \nmax     4356.000000       99.000000  ",
      "text/html": "<div>\n<style scoped>\n    .dataframe tbody tr th:only-of-type {\n        vertical-align: middle;\n    }\n\n    .dataframe tbody tr th {\n        vertical-align: top;\n    }\n\n    .dataframe thead th {\n        text-align: right;\n    }\n</style>\n<table border=\"1\" class=\"dataframe\">\n  <thead>\n    <tr style=\"text-align: right;\">\n      <th></th>\n      <th>age</th>\n      <th>fnlwgt</th>\n      <th>educational-num</th>\n      <th>capital-gain</th>\n      <th>capital-loss</th>\n      <th>hours-per-week</th>\n    </tr>\n  </thead>\n  <tbody>\n    <tr>\n      <th>count</th>\n      <td>48842.000000</td>\n      <td>4.884200e+04</td>\n      <td>48842.000000</td>\n      <td>48842.000000</td>\n      <td>48842.000000</td>\n      <td>48842.000000</td>\n    </tr>\n    <tr>\n      <th>mean</th>\n      <td>38.643585</td>\n      <td>1.896641e+05</td>\n      <td>10.078089</td>\n      <td>1079.067626</td>\n      <td>87.502314</td>\n      <td>40.422382</td>\n    </tr>\n    <tr>\n      <th>std</th>\n      <td>13.710510</td>\n      <td>1.056040e+05</td>\n      <td>2.570973</td>\n      <td>7452.019058</td>\n      <td>403.004552</td>\n      <td>12.391444</td>\n    </tr>\n    <tr>\n      <th>min</th>\n      <td>17.000000</td>\n      <td>1.228500e+04</td>\n      <td>1.000000</td>\n      <td>0.000000</td>\n      <td>0.000000</td>\n      <td>1.000000</td>\n    </tr>\n    <tr>\n      <th>25%</th>\n      <td>28.000000</td>\n      <td>1.175505e+05</td>\n      <td>9.000000</td>\n      <td>0.000000</td>\n      <td>0.000000</td>\n      <td>40.000000</td>\n    </tr>\n    <tr>\n      <th>50%</th>\n      <td>37.000000</td>\n      <td>1.781445e+05</td>\n      <td>10.000000</td>\n      <td>0.000000</td>\n      <td>0.000000</td>\n      <td>40.000000</td>\n    </tr>\n    <tr>\n      <th>75%</th>\n      <td>48.000000</td>\n      <td>2.376420e+05</td>\n      <td>12.000000</td>\n      <td>0.000000</td>\n      <td>0.000000</td>\n      <td>45.000000</td>\n    </tr>\n    <tr>\n      <th>max</th>\n      <td>90.000000</td>\n      <td>1.490400e+06</td>\n      <td>16.000000</td>\n      <td>99999.000000</td>\n      <td>4356.000000</td>\n      <td>99.000000</td>\n    </tr>\n  </tbody>\n</table>\n</div>"
     },
     "metadata": {}
    }
   ]
  },
  {
   "metadata": {
    "trusted": true
   },
   "cell_type": "code",
   "source": "#for Nun-numerical\ndf.describe(include=object)",
   "execution_count": 7,
   "outputs": [
    {
     "output_type": "execute_result",
     "execution_count": 7,
     "data": {
      "text/plain": "       workclass education      marital-status      occupation relationship  \\\ncount      48842     48842               48842           48842        48842   \nunique         9        16                   7              15            6   \ntop      Private   HS-grad  Married-civ-spouse  Prof-specialty      Husband   \nfreq       33906     15784               22379            6172        19716   \n\n         race gender native-country income  \ncount   48842  48842          48842  48842  \nunique      5      2             42      2  \ntop     White   Male  United-States  <=50K  \nfreq    41762  32650          43832  37155  ",
      "text/html": "<div>\n<style scoped>\n    .dataframe tbody tr th:only-of-type {\n        vertical-align: middle;\n    }\n\n    .dataframe tbody tr th {\n        vertical-align: top;\n    }\n\n    .dataframe thead th {\n        text-align: right;\n    }\n</style>\n<table border=\"1\" class=\"dataframe\">\n  <thead>\n    <tr style=\"text-align: right;\">\n      <th></th>\n      <th>workclass</th>\n      <th>education</th>\n      <th>marital-status</th>\n      <th>occupation</th>\n      <th>relationship</th>\n      <th>race</th>\n      <th>gender</th>\n      <th>native-country</th>\n      <th>income</th>\n    </tr>\n  </thead>\n  <tbody>\n    <tr>\n      <th>count</th>\n      <td>48842</td>\n      <td>48842</td>\n      <td>48842</td>\n      <td>48842</td>\n      <td>48842</td>\n      <td>48842</td>\n      <td>48842</td>\n      <td>48842</td>\n      <td>48842</td>\n    </tr>\n    <tr>\n      <th>unique</th>\n      <td>9</td>\n      <td>16</td>\n      <td>7</td>\n      <td>15</td>\n      <td>6</td>\n      <td>5</td>\n      <td>2</td>\n      <td>42</td>\n      <td>2</td>\n    </tr>\n    <tr>\n      <th>top</th>\n      <td>Private</td>\n      <td>HS-grad</td>\n      <td>Married-civ-spouse</td>\n      <td>Prof-specialty</td>\n      <td>Husband</td>\n      <td>White</td>\n      <td>Male</td>\n      <td>United-States</td>\n      <td>&lt;=50K</td>\n    </tr>\n    <tr>\n      <th>freq</th>\n      <td>33906</td>\n      <td>15784</td>\n      <td>22379</td>\n      <td>6172</td>\n      <td>19716</td>\n      <td>41762</td>\n      <td>32650</td>\n      <td>43832</td>\n      <td>37155</td>\n    </tr>\n  </tbody>\n</table>\n</div>"
     },
     "metadata": {}
    }
   ]
  },
  {
   "metadata": {
    "trusted": true
   },
   "cell_type": "code",
   "source": "#perform data cleaning\ndf.isin(['?']).sum()",
   "execution_count": 8,
   "outputs": [
    {
     "output_type": "execute_result",
     "execution_count": 8,
     "data": {
      "text/plain": "age                   0\nworkclass          2799\nfnlwgt                0\neducation             0\neducational-num       0\nmarital-status        0\noccupation         2809\nrelationship          0\nrace                  0\ngender                0\ncapital-gain          0\ncapital-loss          0\nhours-per-week        0\nnative-country      857\nincome                0\ndtype: int64"
     },
     "metadata": {}
    }
   ]
  },
  {
   "metadata": {
    "trusted": true
   },
   "cell_type": "code",
   "source": "df['workclass']=df['workclass'].replace('?',np.nan)\ndf['occupation']=df['occupation'].replace('?',np.nan)\ndf['native-country']=df['native-country'].replace('?',np.nan)",
   "execution_count": 9,
   "outputs": []
  },
  {
   "metadata": {
    "trusted": true
   },
   "cell_type": "code",
   "source": "df.isnull().sum()",
   "execution_count": 10,
   "outputs": [
    {
     "output_type": "execute_result",
     "execution_count": 10,
     "data": {
      "text/plain": "age                   0\nworkclass          2799\nfnlwgt                0\neducation             0\neducational-num       0\nmarital-status        0\noccupation         2809\nrelationship          0\nrace                  0\ngender                0\ncapital-gain          0\ncapital-loss          0\nhours-per-week        0\nnative-country      857\nincome                0\ndtype: int64"
     },
     "metadata": {}
    }
   ]
  },
  {
   "metadata": {
    "trusted": true
   },
   "cell_type": "code",
   "source": "df.dropna(how='any',inplace=True,axis=0)",
   "execution_count": 11,
   "outputs": []
  },
  {
   "metadata": {
    "trusted": true
   },
   "cell_type": "code",
   "source": "df.isnull().sum()",
   "execution_count": 12,
   "outputs": [
    {
     "output_type": "execute_result",
     "execution_count": 12,
     "data": {
      "text/plain": "age                0\nworkclass          0\nfnlwgt             0\neducation          0\neducational-num    0\nmarital-status     0\noccupation         0\nrelationship       0\nrace               0\ngender             0\ncapital-gain       0\ncapital-loss       0\nhours-per-week     0\nnative-country     0\nincome             0\ndtype: int64"
     },
     "metadata": {}
    }
   ]
  },
  {
   "metadata": {
    "trusted": true
   },
   "cell_type": "code",
   "source": "#check for Duplicate data and drop them\ndup = df.duplicated().any()\nprint('are there any duplicated data ?',dup)",
   "execution_count": 13,
   "outputs": [
    {
     "output_type": "stream",
     "text": "are there any duplicated data ? True\n",
     "name": "stdout"
    }
   ]
  },
  {
   "metadata": {
    "trusted": true
   },
   "cell_type": "code",
   "source": "df.drop_duplicates(inplace=True)",
   "execution_count": 14,
   "outputs": []
  },
  {
   "metadata": {
    "trusted": true
   },
   "cell_type": "code",
   "source": "dup = df.duplicated().any()\nprint('are there any duplicated data ?',dup)",
   "execution_count": 15,
   "outputs": [
    {
     "output_type": "stream",
     "text": "are there any duplicated data ? False\n",
     "name": "stdout"
    }
   ]
  },
  {
   "metadata": {
    "trusted": true
   },
   "cell_type": "code",
   "source": "#calculate the average age\naverage_age = df['age'].mean()\nprint(average_age)",
   "execution_count": 16,
   "outputs": [
    {
     "output_type": "stream",
     "text": "38.55617044825678\n",
     "name": "stdout"
    }
   ]
  },
  {
   "metadata": {
    "trusted": true
   },
   "cell_type": "code",
   "source": "#sort the age column\ndf.sort_values(by='age')\n#we can see that the minimum age is 17 and Maximum age is 90",
   "execution_count": 17,
   "outputs": [
    {
     "output_type": "execute_result",
     "execution_count": 17,
     "data": {
      "text/plain": "       age         workclass  fnlwgt     education  educational-num  \\\n24938   17           Private  294485          10th                6   \n9826    17           Private  226503          11th                7   \n40816   17           Private  193748          11th                7   \n17759   17           Private  197850          11th                7   \n48240   17           Private   24090       HS-grad                9   \n...    ...               ...     ...           ...              ...   \n6976    90           Private  250832       HS-grad                9   \n40324   90  Self-emp-not-inc   82628       HS-grad                9   \n19172   90           Private  171956  Some-college               10   \n26826   90           Private  175491       HS-grad                9   \n48648   90         Local-gov  214594       7th-8th                4   \n\n           marital-status        occupation   relationship  \\\n24938       Never-married     Other-service      Own-child   \n9826        Never-married             Sales      Own-child   \n40816       Never-married             Sales      Own-child   \n17759       Never-married      Adm-clerical      Own-child   \n48240       Never-married   Exec-managerial      Own-child   \n...                   ...               ...            ...   \n6976   Married-civ-spouse  Transport-moving        Husband   \n40324       Never-married   Exec-managerial  Not-in-family   \n19172           Separated      Adm-clerical      Own-child   \n26826  Married-civ-spouse      Craft-repair        Husband   \n48648  Married-civ-spouse   Protective-serv        Husband   \n\n                     race  gender  capital-gain  capital-loss  hours-per-week  \\\n24938               White    Male             0             0              30   \n9826                White  Female             0             0              20   \n40816               White    Male             0             0              15   \n17759  Asian-Pac-Islander  Female             0             0              24   \n48240               White  Female             0             0              35   \n...                   ...     ...           ...           ...             ...   \n6976                White    Male          2414             0              40   \n40324               White    Male          2964             0              12   \n19172               White  Female             0             0              40   \n26826               White    Male          9386             0              50   \n48648               White    Male          2653             0              40   \n\n      native-country income  \n24938  United-States  <=50K  \n9826   United-States  <=50K  \n40816  United-States  <=50K  \n17759  United-States  <=50K  \n48240  United-States  <=50K  \n...              ...    ...  \n6976   United-States  <=50K  \n40324  United-States  <=50K  \n19172    Puerto-Rico  <=50K  \n26826        Ecuador   >50K  \n48648  United-States  <=50K  \n\n[45175 rows x 15 columns]",
      "text/html": "<div>\n<style scoped>\n    .dataframe tbody tr th:only-of-type {\n        vertical-align: middle;\n    }\n\n    .dataframe tbody tr th {\n        vertical-align: top;\n    }\n\n    .dataframe thead th {\n        text-align: right;\n    }\n</style>\n<table border=\"1\" class=\"dataframe\">\n  <thead>\n    <tr style=\"text-align: right;\">\n      <th></th>\n      <th>age</th>\n      <th>workclass</th>\n      <th>fnlwgt</th>\n      <th>education</th>\n      <th>educational-num</th>\n      <th>marital-status</th>\n      <th>occupation</th>\n      <th>relationship</th>\n      <th>race</th>\n      <th>gender</th>\n      <th>capital-gain</th>\n      <th>capital-loss</th>\n      <th>hours-per-week</th>\n      <th>native-country</th>\n      <th>income</th>\n    </tr>\n  </thead>\n  <tbody>\n    <tr>\n      <th>24938</th>\n      <td>17</td>\n      <td>Private</td>\n      <td>294485</td>\n      <td>10th</td>\n      <td>6</td>\n      <td>Never-married</td>\n      <td>Other-service</td>\n      <td>Own-child</td>\n      <td>White</td>\n      <td>Male</td>\n      <td>0</td>\n      <td>0</td>\n      <td>30</td>\n      <td>United-States</td>\n      <td>&lt;=50K</td>\n    </tr>\n    <tr>\n      <th>9826</th>\n      <td>17</td>\n      <td>Private</td>\n      <td>226503</td>\n      <td>11th</td>\n      <td>7</td>\n      <td>Never-married</td>\n      <td>Sales</td>\n      <td>Own-child</td>\n      <td>White</td>\n      <td>Female</td>\n      <td>0</td>\n      <td>0</td>\n      <td>20</td>\n      <td>United-States</td>\n      <td>&lt;=50K</td>\n    </tr>\n    <tr>\n      <th>40816</th>\n      <td>17</td>\n      <td>Private</td>\n      <td>193748</td>\n      <td>11th</td>\n      <td>7</td>\n      <td>Never-married</td>\n      <td>Sales</td>\n      <td>Own-child</td>\n      <td>White</td>\n      <td>Male</td>\n      <td>0</td>\n      <td>0</td>\n      <td>15</td>\n      <td>United-States</td>\n      <td>&lt;=50K</td>\n    </tr>\n    <tr>\n      <th>17759</th>\n      <td>17</td>\n      <td>Private</td>\n      <td>197850</td>\n      <td>11th</td>\n      <td>7</td>\n      <td>Never-married</td>\n      <td>Adm-clerical</td>\n      <td>Own-child</td>\n      <td>Asian-Pac-Islander</td>\n      <td>Female</td>\n      <td>0</td>\n      <td>0</td>\n      <td>24</td>\n      <td>United-States</td>\n      <td>&lt;=50K</td>\n    </tr>\n    <tr>\n      <th>48240</th>\n      <td>17</td>\n      <td>Private</td>\n      <td>24090</td>\n      <td>HS-grad</td>\n      <td>9</td>\n      <td>Never-married</td>\n      <td>Exec-managerial</td>\n      <td>Own-child</td>\n      <td>White</td>\n      <td>Female</td>\n      <td>0</td>\n      <td>0</td>\n      <td>35</td>\n      <td>United-States</td>\n      <td>&lt;=50K</td>\n    </tr>\n    <tr>\n      <th>...</th>\n      <td>...</td>\n      <td>...</td>\n      <td>...</td>\n      <td>...</td>\n      <td>...</td>\n      <td>...</td>\n      <td>...</td>\n      <td>...</td>\n      <td>...</td>\n      <td>...</td>\n      <td>...</td>\n      <td>...</td>\n      <td>...</td>\n      <td>...</td>\n      <td>...</td>\n    </tr>\n    <tr>\n      <th>6976</th>\n      <td>90</td>\n      <td>Private</td>\n      <td>250832</td>\n      <td>HS-grad</td>\n      <td>9</td>\n      <td>Married-civ-spouse</td>\n      <td>Transport-moving</td>\n      <td>Husband</td>\n      <td>White</td>\n      <td>Male</td>\n      <td>2414</td>\n      <td>0</td>\n      <td>40</td>\n      <td>United-States</td>\n      <td>&lt;=50K</td>\n    </tr>\n    <tr>\n      <th>40324</th>\n      <td>90</td>\n      <td>Self-emp-not-inc</td>\n      <td>82628</td>\n      <td>HS-grad</td>\n      <td>9</td>\n      <td>Never-married</td>\n      <td>Exec-managerial</td>\n      <td>Not-in-family</td>\n      <td>White</td>\n      <td>Male</td>\n      <td>2964</td>\n      <td>0</td>\n      <td>12</td>\n      <td>United-States</td>\n      <td>&lt;=50K</td>\n    </tr>\n    <tr>\n      <th>19172</th>\n      <td>90</td>\n      <td>Private</td>\n      <td>171956</td>\n      <td>Some-college</td>\n      <td>10</td>\n      <td>Separated</td>\n      <td>Adm-clerical</td>\n      <td>Own-child</td>\n      <td>White</td>\n      <td>Female</td>\n      <td>0</td>\n      <td>0</td>\n      <td>40</td>\n      <td>Puerto-Rico</td>\n      <td>&lt;=50K</td>\n    </tr>\n    <tr>\n      <th>26826</th>\n      <td>90</td>\n      <td>Private</td>\n      <td>175491</td>\n      <td>HS-grad</td>\n      <td>9</td>\n      <td>Married-civ-spouse</td>\n      <td>Craft-repair</td>\n      <td>Husband</td>\n      <td>White</td>\n      <td>Male</td>\n      <td>9386</td>\n      <td>0</td>\n      <td>50</td>\n      <td>Ecuador</td>\n      <td>&gt;50K</td>\n    </tr>\n    <tr>\n      <th>48648</th>\n      <td>90</td>\n      <td>Local-gov</td>\n      <td>214594</td>\n      <td>7th-8th</td>\n      <td>4</td>\n      <td>Married-civ-spouse</td>\n      <td>Protective-serv</td>\n      <td>Husband</td>\n      <td>White</td>\n      <td>Male</td>\n      <td>2653</td>\n      <td>0</td>\n      <td>40</td>\n      <td>United-States</td>\n      <td>&lt;=50K</td>\n    </tr>\n  </tbody>\n</table>\n<p>45175 rows × 15 columns</p>\n</div>"
     },
     "metadata": {}
    }
   ]
  },
  {
   "metadata": {
    "trusted": true
   },
   "cell_type": "code",
   "source": "df",
   "execution_count": 18,
   "outputs": [
    {
     "output_type": "execute_result",
     "execution_count": 18,
     "data": {
      "text/plain": "       age     workclass  fnlwgt     education  educational-num  \\\n0       25       Private  226802          11th                7   \n1       38       Private   89814       HS-grad                9   \n2       28     Local-gov  336951    Assoc-acdm               12   \n3       44       Private  160323  Some-college               10   \n5       34       Private  198693          10th                6   \n...    ...           ...     ...           ...              ...   \n48837   27       Private  257302    Assoc-acdm               12   \n48838   40       Private  154374       HS-grad                9   \n48839   58       Private  151910       HS-grad                9   \n48840   22       Private  201490       HS-grad                9   \n48841   52  Self-emp-inc  287927       HS-grad                9   \n\n           marital-status         occupation   relationship   race  gender  \\\n0           Never-married  Machine-op-inspct      Own-child  Black    Male   \n1      Married-civ-spouse    Farming-fishing        Husband  White    Male   \n2      Married-civ-spouse    Protective-serv        Husband  White    Male   \n3      Married-civ-spouse  Machine-op-inspct        Husband  Black    Male   \n5           Never-married      Other-service  Not-in-family  White    Male   \n...                   ...                ...            ...    ...     ...   \n48837  Married-civ-spouse       Tech-support           Wife  White  Female   \n48838  Married-civ-spouse  Machine-op-inspct        Husband  White    Male   \n48839             Widowed       Adm-clerical      Unmarried  White  Female   \n48840       Never-married       Adm-clerical      Own-child  White    Male   \n48841  Married-civ-spouse    Exec-managerial           Wife  White  Female   \n\n       capital-gain  capital-loss  hours-per-week native-country income  \n0                 0             0              40  United-States  <=50K  \n1                 0             0              50  United-States  <=50K  \n2                 0             0              40  United-States   >50K  \n3              7688             0              40  United-States   >50K  \n5                 0             0              30  United-States  <=50K  \n...             ...           ...             ...            ...    ...  \n48837             0             0              38  United-States  <=50K  \n48838             0             0              40  United-States   >50K  \n48839             0             0              40  United-States  <=50K  \n48840             0             0              20  United-States  <=50K  \n48841         15024             0              40  United-States   >50K  \n\n[45175 rows x 15 columns]",
      "text/html": "<div>\n<style scoped>\n    .dataframe tbody tr th:only-of-type {\n        vertical-align: middle;\n    }\n\n    .dataframe tbody tr th {\n        vertical-align: top;\n    }\n\n    .dataframe thead th {\n        text-align: right;\n    }\n</style>\n<table border=\"1\" class=\"dataframe\">\n  <thead>\n    <tr style=\"text-align: right;\">\n      <th></th>\n      <th>age</th>\n      <th>workclass</th>\n      <th>fnlwgt</th>\n      <th>education</th>\n      <th>educational-num</th>\n      <th>marital-status</th>\n      <th>occupation</th>\n      <th>relationship</th>\n      <th>race</th>\n      <th>gender</th>\n      <th>capital-gain</th>\n      <th>capital-loss</th>\n      <th>hours-per-week</th>\n      <th>native-country</th>\n      <th>income</th>\n    </tr>\n  </thead>\n  <tbody>\n    <tr>\n      <th>0</th>\n      <td>25</td>\n      <td>Private</td>\n      <td>226802</td>\n      <td>11th</td>\n      <td>7</td>\n      <td>Never-married</td>\n      <td>Machine-op-inspct</td>\n      <td>Own-child</td>\n      <td>Black</td>\n      <td>Male</td>\n      <td>0</td>\n      <td>0</td>\n      <td>40</td>\n      <td>United-States</td>\n      <td>&lt;=50K</td>\n    </tr>\n    <tr>\n      <th>1</th>\n      <td>38</td>\n      <td>Private</td>\n      <td>89814</td>\n      <td>HS-grad</td>\n      <td>9</td>\n      <td>Married-civ-spouse</td>\n      <td>Farming-fishing</td>\n      <td>Husband</td>\n      <td>White</td>\n      <td>Male</td>\n      <td>0</td>\n      <td>0</td>\n      <td>50</td>\n      <td>United-States</td>\n      <td>&lt;=50K</td>\n    </tr>\n    <tr>\n      <th>2</th>\n      <td>28</td>\n      <td>Local-gov</td>\n      <td>336951</td>\n      <td>Assoc-acdm</td>\n      <td>12</td>\n      <td>Married-civ-spouse</td>\n      <td>Protective-serv</td>\n      <td>Husband</td>\n      <td>White</td>\n      <td>Male</td>\n      <td>0</td>\n      <td>0</td>\n      <td>40</td>\n      <td>United-States</td>\n      <td>&gt;50K</td>\n    </tr>\n    <tr>\n      <th>3</th>\n      <td>44</td>\n      <td>Private</td>\n      <td>160323</td>\n      <td>Some-college</td>\n      <td>10</td>\n      <td>Married-civ-spouse</td>\n      <td>Machine-op-inspct</td>\n      <td>Husband</td>\n      <td>Black</td>\n      <td>Male</td>\n      <td>7688</td>\n      <td>0</td>\n      <td>40</td>\n      <td>United-States</td>\n      <td>&gt;50K</td>\n    </tr>\n    <tr>\n      <th>5</th>\n      <td>34</td>\n      <td>Private</td>\n      <td>198693</td>\n      <td>10th</td>\n      <td>6</td>\n      <td>Never-married</td>\n      <td>Other-service</td>\n      <td>Not-in-family</td>\n      <td>White</td>\n      <td>Male</td>\n      <td>0</td>\n      <td>0</td>\n      <td>30</td>\n      <td>United-States</td>\n      <td>&lt;=50K</td>\n    </tr>\n    <tr>\n      <th>...</th>\n      <td>...</td>\n      <td>...</td>\n      <td>...</td>\n      <td>...</td>\n      <td>...</td>\n      <td>...</td>\n      <td>...</td>\n      <td>...</td>\n      <td>...</td>\n      <td>...</td>\n      <td>...</td>\n      <td>...</td>\n      <td>...</td>\n      <td>...</td>\n      <td>...</td>\n    </tr>\n    <tr>\n      <th>48837</th>\n      <td>27</td>\n      <td>Private</td>\n      <td>257302</td>\n      <td>Assoc-acdm</td>\n      <td>12</td>\n      <td>Married-civ-spouse</td>\n      <td>Tech-support</td>\n      <td>Wife</td>\n      <td>White</td>\n      <td>Female</td>\n      <td>0</td>\n      <td>0</td>\n      <td>38</td>\n      <td>United-States</td>\n      <td>&lt;=50K</td>\n    </tr>\n    <tr>\n      <th>48838</th>\n      <td>40</td>\n      <td>Private</td>\n      <td>154374</td>\n      <td>HS-grad</td>\n      <td>9</td>\n      <td>Married-civ-spouse</td>\n      <td>Machine-op-inspct</td>\n      <td>Husband</td>\n      <td>White</td>\n      <td>Male</td>\n      <td>0</td>\n      <td>0</td>\n      <td>40</td>\n      <td>United-States</td>\n      <td>&gt;50K</td>\n    </tr>\n    <tr>\n      <th>48839</th>\n      <td>58</td>\n      <td>Private</td>\n      <td>151910</td>\n      <td>HS-grad</td>\n      <td>9</td>\n      <td>Widowed</td>\n      <td>Adm-clerical</td>\n      <td>Unmarried</td>\n      <td>White</td>\n      <td>Female</td>\n      <td>0</td>\n      <td>0</td>\n      <td>40</td>\n      <td>United-States</td>\n      <td>&lt;=50K</td>\n    </tr>\n    <tr>\n      <th>48840</th>\n      <td>22</td>\n      <td>Private</td>\n      <td>201490</td>\n      <td>HS-grad</td>\n      <td>9</td>\n      <td>Never-married</td>\n      <td>Adm-clerical</td>\n      <td>Own-child</td>\n      <td>White</td>\n      <td>Male</td>\n      <td>0</td>\n      <td>0</td>\n      <td>20</td>\n      <td>United-States</td>\n      <td>&lt;=50K</td>\n    </tr>\n    <tr>\n      <th>48841</th>\n      <td>52</td>\n      <td>Self-emp-inc</td>\n      <td>287927</td>\n      <td>HS-grad</td>\n      <td>9</td>\n      <td>Married-civ-spouse</td>\n      <td>Exec-managerial</td>\n      <td>Wife</td>\n      <td>White</td>\n      <td>Female</td>\n      <td>15024</td>\n      <td>0</td>\n      <td>40</td>\n      <td>United-States</td>\n      <td>&gt;50K</td>\n    </tr>\n  </tbody>\n</table>\n<p>45175 rows × 15 columns</p>\n</div>"
     },
     "metadata": {}
    }
   ]
  },
  {
   "metadata": {
    "trusted": true
   },
   "cell_type": "code",
   "source": "#The most common age\nunique = df['age'].unique()\nunique",
   "execution_count": 19,
   "outputs": [
    {
     "output_type": "execute_result",
     "execution_count": 19,
     "data": {
      "text/plain": "array([25, 38, 28, 44, 34, 63, 24, 55, 65, 36, 26, 48, 43, 20, 37, 45, 22,\n       23, 54, 32, 46, 56, 17, 29, 39, 52, 18, 21, 42, 33, 30, 47, 41, 19,\n       69, 50, 31, 59, 49, 58, 40, 27, 57, 61, 51, 73, 53, 80, 62, 35, 72,\n       64, 68, 66, 60, 67, 71, 70, 90, 77, 81, 74, 78, 82, 75, 85, 76, 89,\n       83, 79, 88, 87, 84, 86])"
     },
     "metadata": {}
    }
   ]
  },
  {
   "metadata": {
    "trusted": true
   },
   "cell_type": "code",
   "source": "counts = df['age'].value_counts().sort_values(ascending=False)\ncounts",
   "execution_count": 20,
   "outputs": [
    {
     "output_type": "execute_result",
     "execution_count": 20,
     "data": {
      "text/plain": "36    1283\n33    1279\n31    1273\n35    1271\n23    1237\n      ... \n85       5\n88       5\n89       1\n87       1\n86       1\nName: age, Length: 74, dtype: int64"
     },
     "metadata": {}
    }
   ]
  },
  {
   "metadata": {
    "trusted": true
   },
   "cell_type": "code",
   "source": "print('the most common age is: ',counts.index[counts.argmax()])",
   "execution_count": 21,
   "outputs": [
    {
     "output_type": "stream",
     "text": "the most common age is:  36\n",
     "name": "stdout"
    }
   ]
  },
  {
   "metadata": {
    "trusted": true
   },
   "cell_type": "code",
   "source": "total_count = counts.sum()\ntotal_of_36 = counts.max()\n#the percentage equation (total of 36 /total count)*100\npercentage_of_36 = (total_of_36/total_count)*100\nprint('the Percentage of 36 is: ',percentage_of_36,'%')",
   "execution_count": 22,
   "outputs": [
    {
     "output_type": "stream",
     "text": "the Percentage of 36 is:  2.840066408411732 %\n",
     "name": "stdout"
    }
   ]
  },
  {
   "metadata": {
    "trusted": true
   },
   "cell_type": "code",
   "source": "def types_of(column):\n    print('the '+column+' types')\n    unique = df[column].unique()\n    print(unique)\n    print('we have',len(unique),'types of '+column)\n    for i in unique:\n        print(i)\n    print('\\nthe most common '+column)\n    counts = df[column].value_counts().sort_values(ascending=False)\n    print(counts)\n    print('the most Common '+column+' is',counts.idxmax())\n    print('\\nThe percentage for each of '+column)\n    percentage = [(x/counts.sum())*100 for x in counts]\n    for x,y in zip(counts.keys(),percentage):\n        print(x,'('+str(y)+' %'+')')",
   "execution_count": 23,
   "outputs": []
  },
  {
   "metadata": {
    "trusted": true
   },
   "cell_type": "code",
   "source": "#the workclass types\ntypes_of('workclass')",
   "execution_count": 24,
   "outputs": [
    {
     "output_type": "stream",
     "text": "the workclass types\n['Private' 'Local-gov' 'Self-emp-not-inc' 'Federal-gov' 'State-gov'\n 'Self-emp-inc' 'Without-pay']\nwe have 7 types of workclass\nPrivate\nLocal-gov\nSelf-emp-not-inc\nFederal-gov\nState-gov\nSelf-emp-inc\nWithout-pay\n\nthe most common workclass\nPrivate             33262\nSelf-emp-not-inc     3795\nLocal-gov            3100\nState-gov            1946\nSelf-emp-inc         1645\nFederal-gov          1406\nWithout-pay            21\nName: workclass, dtype: int64\nthe most Common workclass is Private\n\nThe percentage for each of workclass\nPrivate (73.62921970116216 %)\nSelf-emp-not-inc (8.400664084117322 %)\nLocal-gov (6.862202545655784 %)\nState-gov (4.3076923076923075 %)\nSelf-emp-inc (3.641394576646375 %)\nFederal-gov (3.1123408965135586 %)\nWithout-pay (0.04648588821250692 %)\n",
     "name": "stdout"
    }
   ]
  },
  {
   "metadata": {
    "trusted": true
   },
   "cell_type": "code",
   "source": "#the education types\ntypes_of('education')",
   "execution_count": 25,
   "outputs": [
    {
     "output_type": "stream",
     "text": "the education types\n['11th' 'HS-grad' 'Assoc-acdm' 'Some-college' '10th' 'Prof-school'\n '7th-8th' 'Bachelors' 'Masters' '5th-6th' 'Assoc-voc' '9th' 'Doctorate'\n '12th' '1st-4th' 'Preschool']\nwe have 16 types of education\n11th\nHS-grad\nAssoc-acdm\nSome-college\n10th\nProf-school\n7th-8th\nBachelors\nMasters\n5th-6th\nAssoc-voc\n9th\nDoctorate\n12th\n1st-4th\nPreschool\n\nthe most common education\nHS-grad         14770\nSome-college     9887\nBachelors        7559\nMasters          2513\nAssoc-voc        1958\n11th             1619\nAssoc-acdm       1507\n10th             1223\n7th-8th           822\nProf-school       785\n9th               676\n12th              575\nDoctorate         544\n5th-6th           447\n1st-4th           220\nPreschool          70\nName: education, dtype: int64\nthe most Common education is HS-grad\n\nThe percentage for each of education\nHS-grad (32.6950747094632 %)\nSome-college (21.885998893193136 %)\nBachelors (16.732706142778085 %)\nMasters (5.562811289429995 %)\nAssoc-voc (4.3342556723851695 %)\n11th (3.5838406198118427 %)\nAssoc-acdm (3.3359158826784725 %)\n10th (2.7072495849474265 %)\n7th-8th (1.8195904814609851 %)\nProf-school (1.7376867736579968 %)\n9th (1.4964028776978417 %)\n12th (1.2728278915329274 %)\nDoctorate (1.2042058660763697 %)\n5th-6th (0.9894853348090757 %)\n1st-4th (0.4869950193691201 %)\nPreschool (0.1549529607083564 %)\n",
     "name": "stdout"
    }
   ]
  },
  {
   "metadata": {
    "trusted": true
   },
   "cell_type": "code",
   "source": "#the occupation types\ntypes_of('occupation')",
   "execution_count": 26,
   "outputs": [
    {
     "output_type": "stream",
     "text": "the occupation types\n['Machine-op-inspct' 'Farming-fishing' 'Protective-serv' 'Other-service'\n 'Prof-specialty' 'Craft-repair' 'Adm-clerical' 'Exec-managerial'\n 'Tech-support' 'Sales' 'Priv-house-serv' 'Transport-moving'\n 'Handlers-cleaners' 'Armed-Forces']\nwe have 14 types of occupation\nMachine-op-inspct\nFarming-fishing\nProtective-serv\nOther-service\nProf-specialty\nCraft-repair\nAdm-clerical\nExec-managerial\nTech-support\nSales\nPriv-house-serv\nTransport-moving\nHandlers-cleaners\nArmed-Forces\n\nthe most common occupation\nCraft-repair         6010\nProf-specialty       6001\nExec-managerial      5980\nAdm-clerical         5535\nSales                5405\nOther-service        4805\nMachine-op-inspct    2965\nTransport-moving     2316\nHandlers-cleaners    2045\nFarming-fishing      1475\nTech-support         1419\nProtective-serv       975\nPriv-house-serv       230\nArmed-Forces           14\nName: occupation, dtype: int64\nthe most Common occupation is Craft-repair\n\nThe percentage for each of occupation\nCraft-repair (13.303818483674599 %)\nProf-specialty (13.283895960154954 %)\nExec-managerial (13.237410071942445 %)\nAdm-clerical (12.25235196458218 %)\nSales (11.964582180409518 %)\nOther-service (10.636413945766463 %)\nMachine-op-inspct (6.563364692861096 %)\nTransport-moving (5.126729385722192 %)\nHandlers-cleaners (4.526840066408411 %)\nFarming-fishing (3.26508024349751 %)\nTech-support (3.1411178749308246 %)\nProtective-serv (2.158273381294964 %)\nPriv-house-serv (0.509131156613171 %)\nArmed-Forces (0.03099059214167128 %)\n",
     "name": "stdout"
    }
   ]
  },
  {
   "metadata": {
    "trusted": true
   },
   "cell_type": "code",
   "source": "#the relationship types\ntypes_of('relationship')",
   "execution_count": 27,
   "outputs": [
    {
     "output_type": "stream",
     "text": "the relationship types\n['Own-child' 'Husband' 'Not-in-family' 'Unmarried' 'Wife' 'Other-relative']\nwe have 6 types of relationship\nOwn-child\nHusband\nNot-in-family\nUnmarried\nWife\nOther-relative\n\nthe most common relationship\nHusband           18653\nNot-in-family     11679\nOwn-child          6616\nUnmarried          4787\nWife               2091\nOther-relative     1349\nName: relationship, dtype: int64\nthe most Common relationship is Husband\n\nThe percentage for each of relationship\nHusband (41.29053680132817 %)\nNot-in-family (25.852794687327062 %)\nOwn-child (14.645268400664085 %)\nUnmarried (10.596568898727172 %)\nWife (4.628666297731046 %)\nOther-relative (2.986164914222468 %)\n",
     "name": "stdout"
    }
   ]
  },
  {
   "metadata": {
    "trusted": true
   },
   "cell_type": "code",
   "source": "#the race types\ntypes_of('race')",
   "execution_count": 28,
   "outputs": [
    {
     "output_type": "stream",
     "text": "the race types\n['Black' 'White' 'Other' 'Amer-Indian-Eskimo' 'Asian-Pac-Islander']\nwe have 5 types of race\nBlack\nWhite\nOther\nAmer-Indian-Eskimo\nAsian-Pac-Islander\n\nthe most common race\nWhite                 38859\nBlack                  4227\nAsian-Pac-Islander     1301\nAmer-Indian-Eskimo      435\nOther                   353\nName: race, dtype: int64\nthe most Common race is White\n\nThe percentage for each of race\nWhite (86.01881571665744 %)\nBlack (9.356945213060321 %)\nAsian-Pac-Islander (2.879911455451024 %)\nAmer-Indian-Eskimo (0.9629219701162147 %)\nOther (0.7814056447149973 %)\n",
     "name": "stdout"
    }
   ]
  },
  {
   "metadata": {
    "trusted": true
   },
   "cell_type": "code",
   "source": "#the gender types\ntypes_of('gender')",
   "execution_count": 29,
   "outputs": [
    {
     "output_type": "stream",
     "text": "the gender types\n['Male' 'Female']\nwe have 2 types of gender\nMale\nFemale\n\nthe most common gender\nMale      30495\nFemale    14680\nName: gender, dtype: int64\nthe most Common gender is Male\n\nThe percentage for each of gender\nMale (67.50415052573327 %)\nFemale (32.49584947426674 %)\n",
     "name": "stdout"
    }
   ]
  },
  {
   "metadata": {
    "trusted": true
   },
   "cell_type": "code",
   "source": "#the native-country types\ntypes_of('native-country')",
   "execution_count": 30,
   "outputs": [
    {
     "output_type": "stream",
     "text": "the native-country types\n['United-States' 'Peru' 'Guatemala' 'Mexico' 'Dominican-Republic'\n 'Ireland' 'Germany' 'Philippines' 'Thailand' 'Haiti' 'El-Salvador'\n 'Puerto-Rico' 'Vietnam' 'South' 'Columbia' 'Japan' 'India' 'Cambodia'\n 'Poland' 'Laos' 'England' 'Cuba' 'Taiwan' 'Italy' 'Canada' 'Portugal'\n 'China' 'Nicaragua' 'Honduras' 'Iran' 'Scotland' 'Jamaica' 'Ecuador'\n 'Yugoslavia' 'Hungary' 'Hong' 'Greece' 'Trinadad&Tobago'\n 'Outlying-US(Guam-USVI-etc)' 'France' 'Holand-Netherlands']\nwe have 41 types of native-country\nUnited-States\nPeru\nGuatemala\nMexico\nDominican-Republic\nIreland\nGermany\nPhilippines\nThailand\nHaiti\nEl-Salvador\nPuerto-Rico\nVietnam\nSouth\nColumbia\nJapan\nIndia\nCambodia\nPoland\nLaos\nEngland\nCuba\nTaiwan\nItaly\nCanada\nPortugal\nChina\nNicaragua\nHonduras\nIran\nScotland\nJamaica\nEcuador\nYugoslavia\nHungary\nHong\nGreece\nTrinadad&Tobago\nOutlying-US(Guam-USVI-etc)\nFrance\nHoland-Netherlands\n\nthe most common native-country\nUnited-States                 41256\nMexico                          895\nPhilippines                     282\nGermany                         193\nPuerto-Rico                     175\nCanada                          163\nEl-Salvador                     147\nIndia                           147\nCuba                            133\nEngland                         119\nChina                           113\nJamaica                         103\nSouth                           101\nItaly                           100\nDominican-Republic               97\nJapan                            89\nGuatemala                        84\nVietnam                          83\nColumbia                         82\nPoland                           81\nHaiti                            69\nPortugal                         62\nIran                             56\nTaiwan                           55\nGreece                           49\nNicaragua                        48\nPeru                             45\nEcuador                          43\nFrance                           36\nIreland                          36\nThailand                         29\nHong                             28\nCambodia                         26\nTrinadad&Tobago                  26\nYugoslavia                       23\nOutlying-US(Guam-USVI-etc)       22\nLaos                             21\nScotland                         20\nHonduras                         19\nHungary                          18\nHoland-Netherlands                1\nName: native-country, dtype: int64\nthe most Common native-country is United-States\n\nThe percentage for each of native-country\nUnited-States (91.32484781405644 %)\nMexico (1.9811842833425568 %)\nPhilippines (0.6242390702822357 %)\nGermany (0.4272274488101826 %)\nPuerto-Rico (0.387382401770891 %)\nCanada (0.36081903707802987 %)\nEl-Salvador (0.3254012174875484 %)\nIndia (0.3254012174875484 %)\nCuba (0.29441062534587714 %)\nEngland (0.2634200332042059 %)\nChina (0.2501383508577753 %)\nJamaica (0.22800221361372439 %)\nSouth (0.22357498616491422 %)\nItaly (0.22136137244050913 %)\nDominican-Republic (0.21472053126729385 %)\nJapan (0.19701162147205314 %)\nGuatemala (0.18594355285002767 %)\nVietnam (0.18372993912562258 %)\nColumbia (0.18151632540121748 %)\nPoland (0.17930271167681242 %)\nHaiti (0.1527393469839513 %)\nPortugal (0.13724405091311567 %)\nIran (0.12396236856668512 %)\nTaiwan (0.12174875484228002 %)\nGreece (0.10846707249584947 %)\nNicaragua (0.10625345877144439 %)\nPeru (0.09961261759822912 %)\nEcuador (0.09518539014941893 %)\nFrance (0.07969009407858328 %)\nIreland (0.07969009407858328 %)\nThailand (0.06419479800774765 %)\nHong (0.06198118428334256 %)\nCambodia (0.05755395683453237 %)\nTrinadad&Tobago (0.05755395683453237 %)\nYugoslavia (0.0509131156613171 %)\nOutlying-US(Guam-USVI-etc) (0.048699501936912006 %)\nLaos (0.04648588821250692 %)\nScotland (0.04427227448810182 %)\nHonduras (0.042058660763696736 %)\nHungary (0.03984504703929164 %)\nHoland-Netherlands (0.002213613724405091 %)\n",
     "name": "stdout"
    }
   ]
  },
  {
   "metadata": {
    "trusted": true
   },
   "cell_type": "code",
   "source": "#the income types\ntypes_of('income')",
   "execution_count": 31,
   "outputs": [
    {
     "output_type": "stream",
     "text": "the income types\n['<=50K' '>50K']\nwe have 2 types of income\n<=50K\n>50K\n\nthe most common income\n<=50K    33973\n>50K     11202\nName: income, dtype: int64\nthe most Common income is <=50K\n\nThe percentage for each of income\n<=50K (75.20309905921417 %)\n>50K (24.796900940785832 %)\n",
     "name": "stdout"
    }
   ]
  },
  {
   "metadata": {
    "trusted": true
   },
   "cell_type": "code",
   "source": "#the average hours per week\naverage_hours_per_week = df['hours-per-week'].mean()\naverage_age",
   "execution_count": 32,
   "outputs": [
    {
     "output_type": "execute_result",
     "execution_count": 32,
     "data": {
      "text/plain": "38.55617044825678"
     },
     "metadata": {}
    }
   ]
  },
  {
   "metadata": {
    "trusted": true
   },
   "cell_type": "code",
   "source": "#Average age for each education\ndf[['education','age']].groupby('education').mean()",
   "execution_count": 33,
   "outputs": [
    {
     "output_type": "execute_result",
     "execution_count": 33,
     "data": {
      "text/plain": "                    age\neducation              \n10th          38.138185\n11th          32.205065\n12th          32.645217\n1st-4th       45.313636\n5th-6th       42.570470\n7th-8th       48.753041\n9th           40.319527\nAssoc-acdm    37.653616\nAssoc-voc     38.350868\nBachelors     38.654452\nDoctorate     47.064338\nHS-grad       38.791740\nMasters       43.729009\nPreschool     41.671429\nProf-school   44.761783\nSome-college  36.144938",
      "text/html": "<div>\n<style scoped>\n    .dataframe tbody tr th:only-of-type {\n        vertical-align: middle;\n    }\n\n    .dataframe tbody tr th {\n        vertical-align: top;\n    }\n\n    .dataframe thead th {\n        text-align: right;\n    }\n</style>\n<table border=\"1\" class=\"dataframe\">\n  <thead>\n    <tr style=\"text-align: right;\">\n      <th></th>\n      <th>age</th>\n    </tr>\n    <tr>\n      <th>education</th>\n      <th></th>\n    </tr>\n  </thead>\n  <tbody>\n    <tr>\n      <th>10th</th>\n      <td>38.138185</td>\n    </tr>\n    <tr>\n      <th>11th</th>\n      <td>32.205065</td>\n    </tr>\n    <tr>\n      <th>12th</th>\n      <td>32.645217</td>\n    </tr>\n    <tr>\n      <th>1st-4th</th>\n      <td>45.313636</td>\n    </tr>\n    <tr>\n      <th>5th-6th</th>\n      <td>42.570470</td>\n    </tr>\n    <tr>\n      <th>7th-8th</th>\n      <td>48.753041</td>\n    </tr>\n    <tr>\n      <th>9th</th>\n      <td>40.319527</td>\n    </tr>\n    <tr>\n      <th>Assoc-acdm</th>\n      <td>37.653616</td>\n    </tr>\n    <tr>\n      <th>Assoc-voc</th>\n      <td>38.350868</td>\n    </tr>\n    <tr>\n      <th>Bachelors</th>\n      <td>38.654452</td>\n    </tr>\n    <tr>\n      <th>Doctorate</th>\n      <td>47.064338</td>\n    </tr>\n    <tr>\n      <th>HS-grad</th>\n      <td>38.791740</td>\n    </tr>\n    <tr>\n      <th>Masters</th>\n      <td>43.729009</td>\n    </tr>\n    <tr>\n      <th>Preschool</th>\n      <td>41.671429</td>\n    </tr>\n    <tr>\n      <th>Prof-school</th>\n      <td>44.761783</td>\n    </tr>\n    <tr>\n      <th>Some-college</th>\n      <td>36.144938</td>\n    </tr>\n  </tbody>\n</table>\n</div>"
     },
     "metadata": {}
    }
   ]
  },
  {
   "metadata": {
    "trusted": true
   },
   "cell_type": "code",
   "source": "#Average age for each workclass\ndf[['workclass','age']].groupby('workclass').mean()",
   "execution_count": 34,
   "outputs": [
    {
     "output_type": "execute_result",
     "execution_count": 34,
     "data": {
      "text/plain": "                        age\nworkclass                  \nFederal-gov       42.593172\nLocal-gov         41.651290\nPrivate           36.898262\nSelf-emp-inc      45.821277\nSelf-emp-not-inc  45.366271\nState-gov         39.530319\nWithout-pay       47.285714",
      "text/html": "<div>\n<style scoped>\n    .dataframe tbody tr th:only-of-type {\n        vertical-align: middle;\n    }\n\n    .dataframe tbody tr th {\n        vertical-align: top;\n    }\n\n    .dataframe thead th {\n        text-align: right;\n    }\n</style>\n<table border=\"1\" class=\"dataframe\">\n  <thead>\n    <tr style=\"text-align: right;\">\n      <th></th>\n      <th>age</th>\n    </tr>\n    <tr>\n      <th>workclass</th>\n      <th></th>\n    </tr>\n  </thead>\n  <tbody>\n    <tr>\n      <th>Federal-gov</th>\n      <td>42.593172</td>\n    </tr>\n    <tr>\n      <th>Local-gov</th>\n      <td>41.651290</td>\n    </tr>\n    <tr>\n      <th>Private</th>\n      <td>36.898262</td>\n    </tr>\n    <tr>\n      <th>Self-emp-inc</th>\n      <td>45.821277</td>\n    </tr>\n    <tr>\n      <th>Self-emp-not-inc</th>\n      <td>45.366271</td>\n    </tr>\n    <tr>\n      <th>State-gov</th>\n      <td>39.530319</td>\n    </tr>\n    <tr>\n      <th>Without-pay</th>\n      <td>47.285714</td>\n    </tr>\n  </tbody>\n</table>\n</div>"
     },
     "metadata": {}
    }
   ]
  },
  {
   "metadata": {
    "trusted": true
   },
   "cell_type": "code",
   "source": "#Highest income working class\ncondition = df['income'] == '>50K'\ncondition",
   "execution_count": 35,
   "outputs": [
    {
     "output_type": "execute_result",
     "execution_count": 35,
     "data": {
      "text/plain": "0        False\n1        False\n2         True\n3         True\n5        False\n         ...  \n48837    False\n48838     True\n48839    False\n48840    False\n48841     True\nName: income, Length: 45175, dtype: bool"
     },
     "metadata": {}
    }
   ]
  },
  {
   "metadata": {
    "trusted": true
   },
   "cell_type": "code",
   "source": "df['workclass'][condition]",
   "execution_count": 36,
   "outputs": [
    {
     "output_type": "execute_result",
     "execution_count": 36,
     "data": {
      "text/plain": "2               Local-gov\n3                 Private\n7        Self-emp-not-inc\n10                Private\n14                Private\n               ...       \n48819             Private\n48826           Local-gov\n48835             Private\n48838             Private\n48841        Self-emp-inc\nName: workclass, Length: 11202, dtype: object"
     },
     "metadata": {}
    }
   ]
  },
  {
   "metadata": {
    "trusted": true
   },
   "cell_type": "code",
   "source": "unique = df['workclass'][condition].unique()\nunique",
   "execution_count": 37,
   "outputs": [
    {
     "output_type": "execute_result",
     "execution_count": 37,
     "data": {
      "text/plain": "array(['Local-gov', 'Private', 'Self-emp-not-inc', 'State-gov',\n       'Self-emp-inc', 'Federal-gov', 'Without-pay'], dtype=object)"
     },
     "metadata": {}
    }
   ]
  },
  {
   "metadata": {
    "trusted": true
   },
   "cell_type": "code",
   "source": "counts = df['workclass'][condition].value_counts().sort_values(ascending=False)\ncounts",
   "execution_count": 38,
   "outputs": [
    {
     "output_type": "execute_result",
     "execution_count": 38,
     "data": {
      "text/plain": "Private             7245\nSelf-emp-not-inc    1059\nLocal-gov            915\nSelf-emp-inc         912\nFederal-gov          549\nState-gov            520\nWithout-pay            2\nName: workclass, dtype: int64"
     },
     "metadata": {}
    }
   ]
  },
  {
   "metadata": {
    "trusted": true
   },
   "cell_type": "code",
   "source": "print('Highest income working class')\nprint(counts)",
   "execution_count": 39,
   "outputs": [
    {
     "output_type": "stream",
     "text": "Highest income working class\nPrivate             7245\nSelf-emp-not-inc    1059\nLocal-gov            915\nSelf-emp-inc         912\nFederal-gov          549\nState-gov            520\nWithout-pay            2\nName: workclass, dtype: int64\n",
     "name": "stdout"
    }
   ]
  },
  {
   "metadata": {
    "trusted": true
   },
   "cell_type": "code",
   "source": "#how has better income\ncondition = df['income'] == '>50K'\ncondition",
   "execution_count": 40,
   "outputs": [
    {
     "output_type": "execute_result",
     "execution_count": 40,
     "data": {
      "text/plain": "0        False\n1        False\n2         True\n3         True\n5        False\n         ...  \n48837    False\n48838     True\n48839    False\n48840    False\n48841     True\nName: income, Length: 45175, dtype: bool"
     },
     "metadata": {}
    }
   ]
  },
  {
   "metadata": {
    "trusted": true
   },
   "cell_type": "code",
   "source": "df['gender'][condition]",
   "execution_count": 41,
   "outputs": [
    {
     "output_type": "execute_result",
     "execution_count": 41,
     "data": {
      "text/plain": "2          Male\n3          Male\n7          Male\n10         Male\n14         Male\n          ...  \n48819    Female\n48826    Female\n48835      Male\n48838      Male\n48841    Female\nName: gender, Length: 11202, dtype: object"
     },
     "metadata": {}
    }
   ]
  },
  {
   "metadata": {
    "trusted": true
   },
   "cell_type": "code",
   "source": "unique = df['gender'][condition].unique()\nunique",
   "execution_count": 42,
   "outputs": [
    {
     "output_type": "execute_result",
     "execution_count": 42,
     "data": {
      "text/plain": "array(['Male', 'Female'], dtype=object)"
     },
     "metadata": {}
    }
   ]
  },
  {
   "metadata": {
    "trusted": true
   },
   "cell_type": "code",
   "source": "counts = df['gender'][condition].value_counts().sort_values(ascending=False)\ncounts",
   "execution_count": 43,
   "outputs": [
    {
     "output_type": "execute_result",
     "execution_count": 43,
     "data": {
      "text/plain": "Male      9533\nFemale    1669\nName: gender, dtype: int64"
     },
     "metadata": {}
    }
   ]
  },
  {
   "metadata": {
    "trusted": true
   },
   "cell_type": "code",
   "source": "print('Highest income working class')\nprint(counts)",
   "execution_count": 44,
   "outputs": [
    {
     "output_type": "stream",
     "text": "Highest income working class\nMale      9533\nFemale    1669\nName: gender, dtype: int64\n",
     "name": "stdout"
    }
   ]
  }
 ],
 "metadata": {
  "kernelspec": {
   "name": "python3",
   "display_name": "Python 3",
   "language": "python"
  },
  "language_info": {
   "name": "python",
   "version": "3.10.4",
   "mimetype": "text/x-python",
   "codemirror_mode": {
    "name": "ipython",
    "version": 3
   },
   "pygments_lexer": "ipython3",
   "nbconvert_exporter": "python",
   "file_extension": ".py"
  }
 },
 "nbformat": 4,
 "nbformat_minor": 2
}